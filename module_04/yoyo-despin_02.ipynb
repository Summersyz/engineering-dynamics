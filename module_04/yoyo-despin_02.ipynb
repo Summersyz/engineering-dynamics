{
 "cells": [
  {
   "cell_type": "code",
   "execution_count": null,
   "metadata": {
    "tags": [
     "hide-cell"
    ]
   },
   "outputs": [],
   "source": [
    "import numpy as np\n",
    "import matplotlib.pyplot as plt\n",
    "from scipy.integrate import odeint\n",
    "plt.style.use('fivethirtyeight')"
   ]
  },
  {
   "cell_type": "markdown",
   "metadata": {},
   "source": [
    "# Yoyo despin revisited (cord constraint)"
   ]
  },
  {
   "cell_type": "code",
   "execution_count": null,
   "metadata": {
    "tags": [
     "hide-input"
    ]
   },
   "outputs": [],
   "source": [
    "from IPython.core.display import SVG\n",
    "\n",
    "SVG(filename='./yoyo-rocket.svg')"
   ]
  },
  {
   "cell_type": "markdown",
   "metadata": {},
   "source": [
    "A rocket yoyo-despinning mechanism uses cords wrapped around the\n",
    "payload. These cords unravel and slow the spinning of the rocket. In\n",
    "this tutorial, you will consider the engineering system, conservation of\n",
    "angular momentum, and conservation of energy. \n",
    "\n",
    "# Engineering system - kinematics\n",
    "\n",
    "As the yoyo mass unravels, it moves further from the payload. The total\n",
    "distance from the payload center of mass (COM) is described by \n",
    "\n",
    "$r_{P/G} = R\\hat{e}_R + l\\hat{e}_{\\theta}$\n",
    "\n",
    "where $R$ is the payload radius, $l$ is the length of the cord, and\n",
    "$\\hat{e}_R$ and $\\hat{e}_{\\theta}$ are unit vectors in a cylindrical\n",
    "coordinate system. The length of the cord depends upon the angle of the\n",
    "payload, $\\theta$. Consider a spool of thread rolling across the floor,\n",
    "the thread left on the floor is equal to distance traveled or,\n",
    "$R\\theta$. Now, the position of yoyo P is\n",
    "\n",
    "$r_{P/G} = R\\hat{e}_R + R\\theta\\hat{e}_{\\theta}$\n",
    "\n",
    "where $\\theta$ is the change in angle of the payload after the yoyos are\n",
    "released. The velocity of mass P is $\\dot{r}_{P/G}$, using the transport\n",
    "equation\n",
    "\n",
    "$v_{P/G} = \\frac{d}{dt}(R\\hat{e}_R + R\\theta\\hat{e}_{\\theta}) +\n",
    "{}^I\\mathbf{\\omega}^C \\times(R\\hat{e}_R + R\\theta\\hat{e}_{\\theta})$\n",
    "\n",
    "where the total angular velocity is the combination of the payload's\n",
    "angular velocity $\\mathbf{\\omega}_B$ and the angular velocity of the\n",
    "yoyo relative to the payload, ${}^B \\mathbf{\\omega}^C=\\dot{\\theta}\\hat{k}$. The addition of\n",
    "payload and yoyo angular velocity is the total \n",
    "\n",
    "${}^I\\mathbf{\\omega}^C = \\omega_B \\hat{k} +\n",
    "\\dot{\\theta}\\hat{k}$\n",
    "\n",
    "```{note}\n",
    "Consider a 1-kg payload with radius $R=0.1~m$ and two yoyos of mass,\n",
    "$m_P=m_Q=0.1~kg$. The system is released at $t = 0~s$ when the payload\n",
    "is spinning at $\\omega_B^0=10~rad/s$. \n",
    "```"
   ]
  },
  {
   "cell_type": "code",
   "execution_count": null,
   "metadata": {},
   "outputs": [],
   "source": [
    "M = 1\n",
    "R = 0.1\n",
    "I = M*R**2/2\n",
    "m = 0.1\n",
    "w0 = 10"
   ]
  },
  {
   "cell_type": "markdown",
   "metadata": {},
   "source": [
    "The yoyos P and Q will remain anti-symmetric if released at the same time, so \n",
    "\n",
    "$\\mathbf{r}_{P/G} = -\\mathbf{r}_{Q/G},~|\\mathbf{r}_{P/G}| =\n",
    "|\\mathbf{r}_{Q/G}|$ \n",
    "\n",
    "and\n",
    "\n",
    "$\\mathbf{v}_{P/G} = -\\mathbf{v}_{Q/G},~v_P = v_Q.$\n",
    "\n",
    "The equations for position and velocity are the essential kinematic\n",
    "equations to define angular momentum and kinetic energy, the two kinetic\n",
    "equations. \n",
    "\n",
    "# Engineering system - kinetics (conservation of angular momentum)\n",
    "\n",
    "The angular momentum is constant because $\\sum \\mathbf{M}_G = 0 =\n",
    "\\frac{d}{dt}\\mathbf{h}_G$. The total angular momentum is as such\n",
    "\n",
    "$\\mathbf{h}_G = I_G \\omega_B \\hat{k} + m_P \\mathbf{r}_{P/G} \\times\n",
    "\\mathbf{r}_{P/G}+\n",
    " m_Q \\mathbf{r}_{Q/G} \\times \\mathbf{r}_{Q/G}$\n",
    "\n",
    "where $m_P = m_Q = m$\n",
    "\n",
    "$\\mathbf{h}_G = I_G \\omega_B \\hat{k} + 2mR^2(\\omega_B +\n",
    "\\theta^2(\\omega_B+\\dot{\\theta})) = (I_G + 2mR^2)\\omega_B^0$\n",
    "\n",
    "where $\\omega_B^0$ is the initial spinning rate of the payload,\n",
    "$\\omega_B$ is the angular speed of the payload after the yoyos are\n",
    "released, $\\theta$ is the angle of the yoyo cord, and $\\dot{\\theta}$ is\n",
    "the relative angular velocity of the yoyo cord. At time $t=0$, the yoyos\n",
    "are release and $\\theta = \\dot{\\theta}=0$. There are three unknown\n",
    "variables in this angular momentum equation, $\\omega_B$, $\\theta$, and\n",
    "$\\dot{\\theta}$. You need another equation, use work-energy.\n",
    "\n",
    "\n",
    "# Engineering system - kinetics (work-energy formulation)\n",
    "\n",
    "There is no external work done to the system, the tension in the yoyo\n",
    "cords are internal constraint forces, so the total work done is 0, e.g.\n",
    "for a $T\\Delta l$ there is an equal and opposite $-T\\Delta l$ on\n",
    "the other side. \n",
    "\n",
    "$T_1 + W_{1\\rightarrow2} = T_2$\n",
    "\n",
    "$\\frac{1}{2}I_G (\\omega_B^0)^2 + 2mR^2(\\omega_B^0)^2 = \n",
    "\\frac{1}{2}I_G (\\omega_B)^2 +\n",
    "m(R^2\\theta^2(\\omega_B+\\dot{\\theta})^2+R^2\\omega_B^2)$\n",
    "\n",
    "combining terms and simplifying\n",
    "\n",
    "$\\left(\\frac{I_G}{2mR^2}+1\\right)( (\\omega_B^0)^2-\\omega_B)  = \n",
    "\\theta^2(\\omega_B+\\dot{\\theta})^2$\n",
    "\n",
    "# Combining equations and solving\n",
    "\n",
    "Substitute $c = \\left(\\frac{I_G}{2mR^2}+1\\right)$ so you are left with \n",
    "\n",
    "1. conservation of angular momentum\n",
    "\n",
    "$c(\\omega_B^0 - \\omega_B) = \\theta^2(\\omega_B+\\dot{\\theta})$\n",
    "\n",
    "2. work-energy\n",
    "\n",
    "$c(\\omega_B^0-\\omega_B^2)(\\omega_B^0+\\omega_B^2) = \\theta^2(\\omega_B+\\theta)^2$\n",
    "\n",
    "dividing work-energy by conservation of angular momentum, \n",
    "\n",
    "$\\frac{c(\\omega_B^0-\\omega_B^2)(\\omega_B^0+\\omega_B^2)}{c(\\omega_B^0 - \\omega_B)} = \n",
    "\\frac{\\theta^2(\\omega_B+\\theta)^2}{\\theta^2(\\omega_B+\\theta)}$\n",
    "\n",
    "with the solution for $\\dot{\\theta}$\n",
    "\n",
    "$\\omega_B^0 +\\omega_B = \\omega_B +\\dot{\\theta} \\rightarrow \\omega_B^0 =\n",
    "\\dot{\\theta}$."
   ]
  },
  {
   "cell_type": "code",
   "execution_count": null,
   "metadata": {},
   "outputs": [],
   "source": [
    "t = np.linspace(0,1)\n",
    "theta = w0*t "
   ]
  },
  {
   "cell_type": "markdown",
   "metadata": {},
   "source": [
    "This result, _combining conservation of angular momentum and\n",
    "work-energy_, tells you that the angular velocity of the yoyos will be\n",
    "be equal to the initial angular velocity of the payload. The angle\n",
    "$\\theta$ will\n",
    "continue increase as $\\omega_B^0 t$ until released. Plug this result into\n",
    "the orginal conservation of angular momentum equation to solve for\n",
    "$\\omega_B$\n",
    "\n",
    "$c(\\omega_B^0 - \\omega_B) = (\\omega_B^0 t)^2(\\omega_B+\\omega_B^0)$\n",
    "\n",
    "$\\omega_B(t) = \\frac{c-(\\omega_B^0 t)^2}{c+(\\omega_B^0 t)^2}\\omega_B^0.$"
   ]
  },
  {
   "cell_type": "code",
   "execution_count": null,
   "metadata": {
    "tags": [
     "hide-input"
    ]
   },
   "outputs": [],
   "source": [
    "c = np.sqrt(I/2/m/R**2 + 1)\n",
    "wB = lambda t: (c-w0**2*t**2)/(c+w0**2*t**2)*w0\n",
    "wC = wB(t) + w0\n",
    "x = R*np.cos(wC*t) - R*w0*t*np.sin(wC*t)\n",
    "y = R*np.sin(wC*t) + R*w0*t*np.cos(wC*t)\n",
    "plt.plot(x,y, 'o', label = 'yoyo P')\n",
    "plt.plot(-x,-y, 'o', label = 'yoyo Q')\n",
    "plt.axis('equal')\n",
    "plt.title('paths of yoyos P and Q')\n",
    "plt.xlabel('x-position (m)')\n",
    "plt.ylabel('y-position (m)')\n",
    "plt.legend();"
   ]
  },
  {
   "cell_type": "markdown",
   "metadata": {},
   "source": [
    "The added benefit of using cords to release the yoyos is that the\n",
    "payload angular velocity can be reduced to 0 rad/s at time, $t_f$. \n",
    "\n",
    "$\\omega_B(t_f) = 0 = c - (\\omega_B^0t)^2 \\rightarrow t_f =\n",
    "\\frac{\\sqrt{c}}{\\omega_B^0} =\n",
    "\\frac{1}{\\omega_B^0}\\sqrt{\\frac{I}{2mR^2}+1}.$\n",
    "\n",
    "The final cord length, is unraveling distance, $l_F = R\\theta  =\n",
    "R\\omega_B^0 t_f$\n",
    "\n",
    "$l_F = \\sqrt{\\frac{I}{2m}+R^2}$"
   ]
  },
  {
   "cell_type": "code",
   "execution_count": null,
   "metadata": {},
   "outputs": [],
   "source": [
    "tf = np.sqrt(c)/w0\n",
    "lf = R*np.sqrt(c)\n",
    "plt.plot(t,wB(t),label = 'w_B(t) solution')\n",
    "plt.plot(tf,wB(tf),'o', label = 'release point, t_f')\n",
    "plt.legend();\n",
    "plt.xlabel('time (s)')\n",
    "plt.ylabel('payload angular velocity (rad/s)');"
   ]
  }
 ],
 "metadata": {
  "jupytext": {
   "formats": "md:myst"
  },
  "kernelspec": {
   "display_name": "Python 3",
   "name": "python3"
  }
 },
 "nbformat": 4,
 "nbformat_minor": 4
}
