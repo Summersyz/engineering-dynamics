{
 "cells": [
  {
   "cell_type": "markdown",
   "id": "b286adf2",
   "metadata": {},
   "source": [
    "# Project proposal - car accident impulse/momentum"
   ]
  },
  {
   "cell_type": "code",
   "execution_count": 1,
   "id": "8596d1b9",
   "metadata": {},
   "outputs": [
    {
     "data": {
      "text/html": [
       "\n",
       "        <iframe\n",
       "            width=\"600\"\n",
       "            height=\"1500\"\n",
       "            src=\"./Alnaimi-rough-draft-of-Module-5-project.pdf\"\n",
       "            frameborder=\"0\"\n",
       "            allowfullscreen\n",
       "        ></iframe>\n",
       "        "
      ],
      "text/plain": [
       "<IPython.lib.display.IFrame at 0x7f85a81f2eb0>"
      ]
     },
     "execution_count": 1,
     "metadata": {},
     "output_type": "execute_result"
    }
   ],
   "source": [
    "from IPython.display import IFrame\n",
    "IFrame(\"./Alnaimi-rough-draft-of-Module-5-project.pdf\", width=600, height=1500)"
   ]
  },
  {
   "cell_type": "code",
   "execution_count": null,
   "id": "b1c9816f",
   "metadata": {},
   "outputs": [],
   "source": []
  }
 ],
 "metadata": {
  "kernelspec": {
   "display_name": "Python 3",
   "language": "python",
   "name": "python3"
  },
  "language_info": {
   "codemirror_mode": {
    "name": "ipython",
    "version": 3
   },
   "file_extension": ".py",
   "mimetype": "text/x-python",
   "name": "python",
   "nbconvert_exporter": "python",
   "pygments_lexer": "ipython3",
   "version": "3.9.4"
  }
 },
 "nbformat": 4,
 "nbformat_minor": 5
}
