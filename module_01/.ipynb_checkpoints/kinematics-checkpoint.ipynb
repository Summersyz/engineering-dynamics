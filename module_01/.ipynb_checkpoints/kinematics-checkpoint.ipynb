{
 "cells": [
  {
   "cell_type": "code",
   "execution_count": 1,
   "metadata": {
    "tags": [
     "hide-cell"
    ]
   },
   "outputs": [
    {
     "data": {
      "application/javascript": [
       "MathJax.Hub.Config({\n",
       "    TeX: { equationNumbers: { autoNumber: \"AMS\" } }\n",
       "});\n"
      ],
      "text/plain": [
       "<IPython.core.display.Javascript object>"
      ]
     },
     "metadata": {},
     "output_type": "display_data"
    }
   ],
   "source": [
    "%%javascript\n",
    "MathJax.Hub.Config({\n",
    "    TeX: { equationNumbers: { autoNumber: \"AMS\" } }\n",
    "});"
   ]
  },
  {
   "cell_type": "markdown",
   "metadata": {},
   "source": [
    "# Geometry of motion - kinematics\n",
    "\n",
    "# Position\n",
    "\n",
    "Classical physics describes the position of an object using three\n",
    "independent coordinates e.g. \n",
    "<a id='position'></a>\n",
    "\\begin{equation}\n",
    "\\mathbf{r}_{P/O} = x\\hat{i} + y\\hat{j} + z\\hat{k}\n",
    "\\end{equation}\n",
    "\n",
    "where $\\mathbf{r}_{P/O}$ is the position of point $P$ _with respect to the point\n",
    "of origin_ $O$, $x,~y,~z$ are magnitudes of distance along a\n",
    "Cartesian coordinate system and $\\hat{i},~\\hat{j}$ and $\\hat{k}$ are\n",
    "unit vectors that describe three "
   ]
  },
  {
   "cell_type": "code",
   "execution_count": 3,
   "metadata": {
    "tags": [
     "hide-cell"
    ]
   },
   "outputs": [],
   "source": [
    "import numpy as np\n",
    "import matplotlib.pyplot as plt\n",
    "plt.style.use('fivethirtyeight')"
   ]
  },
  {
   "cell_type": "markdown",
   "metadata": {},
   "source": [
    "# Velocity\n",
    "\n",
    "The velocity of an object is the change in [position](#position) per length of time.\n",
    "<a id='velociy'></a>\n",
    "\n",
    "\\begin{equation}\n",
    "\\mathbf{v}_{P/O} = \\frac{d\\mathbf{r}_{P/O}}{dt} = \\dot{x}\\hat{i} + \\dot{y}\\hat{j} +\n",
    "\\dot{z}\\hat{k}\n",
    "\\end{equation}\n",
    "\n",
    "```{note}\n",
    "The notation $\\dot{x}$ and $\\ddot{x}$ is short-hand for writing out\n",
    "$\\frac{dx}{dt}$ and $\\frac{d^2x}{dt^2}$, respectively.\n",
    "```\n",
    "\n",
    "The definition of velocity in equation {eq}`velocity` depends upon the change in position of all\n",
    "three independent coordinates, where\n",
    "$\\frac{d}{dt}(x\\hat{i})=\\dot{x}\\hat{i}$. "
   ]
  },
  {
   "cell_type": "markdown",
   "metadata": {},
   "source": [
    "```{note}\n",
    "Remember the chain rule: $\\frac{d}{dt}(x\\hat{i})=\\dot{x}\\hat{i} +\n",
    "x\\dot{\\hat{i}}$, but $\\dot{\\hat{i}}=0$ because this unit vector is not\n",
    "changing direction. You'll see other unit vectors later that _do\n",
    "change_.\n",
    "```\n",
    "\n",
    "{numref}`postion-velocity`\n",
    "## Example - GPS vs speedometer\n",
    "You can find velocity based upon postion, but you can only find changes\n",
    "in position with velocity. Consider tracking the motion of a car driving\n",
    "down a road using GPS. You determine its motion and create the position,\n",
    "$\\mathbf{r} = x\\hat{i} +y\\hat{j}$, where"
   ]
  },
  {
   "cell_type": "markdown",
   "metadata": {},
   "source": [
    "$x(t) = 4t +3$ and $y(t) = 3t - 1$\n",
    "\n",
    "To get the velocity, calculate $\\mathbf{v} = \\dot{\\mathbf{r}}$\n",
    "\n",
    "$\\mathbf{v} = 4\\hat{i} +3 \\hat{j}$"
   ]
  },
  {
   "cell_type": "code",
   "execution_count": null,
   "metadata": {
    "lines_to_next_cell": 0,
    "tags": [
     "hide-input"
    ]
   },
   "outputs": [],
   "source": [
    "t = np.arange(0,5)\n",
    "x = 4*t + 3\n",
    "y = 3*t -1\n",
    "plt.plot(x,y,'o')\n",
    "plt.quiver(x,y,4,3)\n",
    "plt.title('Position of car on road every 1 second'+\n",
    "    '\\nvelocity shown as arrow')\n",
    "plt.xlabel('x-position (m)')\n",
    "plt.ylabel('y-position (m)');"
   ]
  },
  {
   "cell_type": "markdown",
   "metadata": {},
   "source": [
    "\n"
   ]
  },
  {
   "cell_type": "markdown",
   "metadata": {},
   "source": [
    "## Speed\n",
    "\n",
    "The speed of an object is the\n",
    "[magnitude](https://www.mathsisfun.com/algebra/vectors.html) of the\n",
    "velocity, \n",
    "\n",
    "$|\\mathbf{v}_{P/O}| = \\sqrt{\\mathbf{v}\\cdot\\mathbf{v}} =\n",
    "\\sqrt{\\dot{x}^2 + \\dot{y}^2 + \\dot{z}^2}$\n",
    "\n",
    "# Acceleration\n",
    "\n",
    "The acceleration of an object is the change in velocity per length of\n",
    "time. \n",
    "\n",
    "$\\mathbf{a}_{P/O} = \\frac{d \\mathbf{v}_{P/O} }{dt} = \\ddot{x}\\hat{i} +\n",
    "\\ddot{y}\\hat{j} + \\ddot{z}\\hat{k}$\n",
    "\n",
    "where $\\ddot{x}=\\frac{d^2 x}{dt^2}$ and $\\mathbf{a}_{P/O}$ is the\n",
    "acceleration of point $P$ _with respect to the point of origin_ $O$. \n",
    "\n",
    "# Rotation and Orientation\n",
    "\n",
    "The definitions of position, velocity, and acceleration all describe a\n",
    "single point, but dynamic engineering systems are composed of rigid\n",
    "bodies is needed to describe the position of an object. "
   ]
  },
  {
   "cell_type": "code",
   "execution_count": null,
   "metadata": {
    "tags": [
     "hide-input"
    ]
   },
   "outputs": [],
   "source": [
    "from IPython.core.display import SVG\n",
    "\n",
    "SVG(filename='./images/position_angle.svg')"
   ]
  },
  {
   "cell_type": "markdown",
   "metadata": {},
   "source": [
    "_In the figure above, the center of the block is located at\n",
    "$r_{P/O}=x\\hat{i}+y\\hat{j}$ in both the left and right images, but the\n",
    "two locations are not the same. The orientation of the block is\n",
    "important for determining the position of all the material points._\n",
    "\n",
    "In general, a rigid body has a _pitch_, _yaw_, and _roll_ that describes\n",
    "its rotational orientation, as seen in the animation below. We will\n",
    "revisit 3D motion in Module_05\n"
   ]
  },
  {
   "cell_type": "code",
   "execution_count": null,
   "metadata": {
    "lines_to_next_cell": 0,
    "tags": [
     "hide-input"
    ]
   },
   "outputs": [],
   "source": [
    "from IPython.display import YouTubeVideo\n",
    "vid = YouTubeVideo(\"li7t--8UZms?loop=1\")\n",
    "display(vid)"
   ]
  },
  {
   "cell_type": "markdown",
   "metadata": {},
   "source": [
    "# Rotation in planar motion\n",
    "\n",
    "Our initial focus is planar rotations e.g. yaw and roll are fixed. For a\n",
    "body constrained to planar motion, you need 3 independent measurements\n",
    "to describe its position e.g. $x$, $y$, and $\\theta$"
   ]
  }
 ],
 "metadata": {
  "kernelspec": {
   "display_name": "Python 3",
   "language": "python",
   "name": "python3"
  },
  "language_info": {
   "codemirror_mode": {
    "name": "ipython",
    "version": 3
   },
   "file_extension": ".py",
   "mimetype": "text/x-python",
   "name": "python",
   "nbconvert_exporter": "python",
   "pygments_lexer": "ipython3",
   "version": "3.8.3"
  }
 },
 "nbformat": 4,
 "nbformat_minor": 4
}
